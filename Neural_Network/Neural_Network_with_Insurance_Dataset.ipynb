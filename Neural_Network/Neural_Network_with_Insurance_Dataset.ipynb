{
  "nbformat": 4,
  "nbformat_minor": 0,
  "metadata": {
    "colab": {
      "provenance": []
    },
    "kernelspec": {
      "name": "python3",
      "display_name": "Python 3"
    },
    "language_info": {
      "name": "python"
    },
    "gpuClass": "standard"
  },
  "cells": [
    {
      "cell_type": "code",
      "execution_count": null,
      "metadata": {
        "id": "EV3tVAO9QTb0"
      },
      "outputs": [],
      "source": [
        "import tensorflow as tf\n",
        "import pandas as pd\n",
        "import matplotlib.pyplot as plt"
      ]
    },
    {
      "cell_type": "code",
      "source": [
        "# Read dat from dataset in Github\n",
        "insurance_Dataset = pd.read_csv('https://raw.githubusercontent.com/stedy/Machine-Learning-with-R-datasets/master/insurance.csv')"
      ],
      "metadata": {
        "id": "lVRes1PcRAkJ"
      },
      "execution_count": null,
      "outputs": []
    },
    {
      "cell_type": "code",
      "source": [
        "print(insurance_Dataset)"
      ],
      "metadata": {
        "colab": {
          "base_uri": "https://localhost:8080/"
        },
        "id": "oBH9PEsERugL",
        "outputId": "86035642-c4ce-4836-9963-9fa99bacee61"
      },
      "execution_count": null,
      "outputs": [
        {
          "output_type": "stream",
          "name": "stdout",
          "text": [
            "      age     sex     bmi  children smoker     region      charges\n",
            "0      19  female  27.900         0    yes  southwest  16884.92400\n",
            "1      18    male  33.770         1     no  southeast   1725.55230\n",
            "2      28    male  33.000         3     no  southeast   4449.46200\n",
            "3      33    male  22.705         0     no  northwest  21984.47061\n",
            "4      32    male  28.880         0     no  northwest   3866.85520\n",
            "...   ...     ...     ...       ...    ...        ...          ...\n",
            "1333   50    male  30.970         3     no  northwest  10600.54830\n",
            "1334   18  female  31.920         0     no  northeast   2205.98080\n",
            "1335   18  female  36.850         0     no  southeast   1629.83350\n",
            "1336   21  female  25.800         0     no  southwest   2007.94500\n",
            "1337   61  female  29.070         0    yes  northwest  29141.36030\n",
            "\n",
            "[1338 rows x 7 columns]\n"
          ]
        }
      ]
    },
    {
      "cell_type": "code",
      "source": [
        "#due computer unknow charactor, so we change it to number,  such as yes = 1, no =0\n",
        "insurance_one_hot = pd.get_dummies(insurance_Dataset)\n",
        "print(insurance_one_hot.head)"
      ],
      "metadata": {
        "colab": {
          "base_uri": "https://localhost:8080/"
        },
        "id": "8EazLp_1RzVa",
        "outputId": "8609422b-5815-4110-c308-7b157c0dfc1b"
      },
      "execution_count": null,
      "outputs": [
        {
          "output_type": "stream",
          "name": "stdout",
          "text": [
            "<bound method NDFrame.head of       age     bmi  children      charges  sex_female  sex_male  smoker_no  \\\n",
            "0      19  27.900         0  16884.92400           1         0          0   \n",
            "1      18  33.770         1   1725.55230           0         1          1   \n",
            "2      28  33.000         3   4449.46200           0         1          1   \n",
            "3      33  22.705         0  21984.47061           0         1          1   \n",
            "4      32  28.880         0   3866.85520           0         1          1   \n",
            "...   ...     ...       ...          ...         ...       ...        ...   \n",
            "1333   50  30.970         3  10600.54830           0         1          1   \n",
            "1334   18  31.920         0   2205.98080           1         0          1   \n",
            "1335   18  36.850         0   1629.83350           1         0          1   \n",
            "1336   21  25.800         0   2007.94500           1         0          1   \n",
            "1337   61  29.070         0  29141.36030           1         0          0   \n",
            "\n",
            "      smoker_yes  region_northeast  region_northwest  region_southeast  \\\n",
            "0              1                 0                 0                 0   \n",
            "1              0                 0                 0                 1   \n",
            "2              0                 0                 0                 1   \n",
            "3              0                 0                 1                 0   \n",
            "4              0                 0                 1                 0   \n",
            "...          ...               ...               ...               ...   \n",
            "1333           0                 0                 1                 0   \n",
            "1334           0                 1                 0                 0   \n",
            "1335           0                 0                 0                 1   \n",
            "1336           0                 0                 0                 0   \n",
            "1337           1                 0                 1                 0   \n",
            "\n",
            "      region_southwest  \n",
            "0                    1  \n",
            "1                    0  \n",
            "2                    0  \n",
            "3                    0  \n",
            "4                    0  \n",
            "...                ...  \n",
            "1333                 0  \n",
            "1334                 0  \n",
            "1335                 0  \n",
            "1336                 1  \n",
            "1337                 0  \n",
            "\n",
            "[1338 rows x 12 columns]>\n"
          ]
        }
      ]
    },
    {
      "cell_type": "code",
      "source": [
        "# We seperate Charges out of dataset\n",
        "# And we get Charges to output\n",
        "x = insurance_one_hot.drop('charges', axis = 1)\n",
        "y = insurance_one_hot['charges']"
      ],
      "metadata": {
        "id": "0NNPMXd1Swsu"
      },
      "execution_count": null,
      "outputs": []
    },
    {
      "cell_type": "code",
      "source": [
        "print(x.head())"
      ],
      "metadata": {
        "colab": {
          "base_uri": "https://localhost:8080/"
        },
        "id": "zWh73g25Udl5",
        "outputId": "2f012330-0aa0-4d2d-b34d-7094687a5915"
      },
      "execution_count": null,
      "outputs": [
        {
          "output_type": "stream",
          "name": "stdout",
          "text": [
            "   age     bmi  children  sex_female  sex_male  smoker_no  smoker_yes  \\\n",
            "0   19  27.900         0           1         0          0           1   \n",
            "1   18  33.770         1           0         1          1           0   \n",
            "2   28  33.000         3           0         1          1           0   \n",
            "3   33  22.705         0           0         1          1           0   \n",
            "4   32  28.880         0           0         1          1           0   \n",
            "\n",
            "   region_northeast  region_northwest  region_southeast  region_southwest  \n",
            "0                 0                 0                 0                 1  \n",
            "1                 0                 0                 1                 0  \n",
            "2                 0                 0                 1                 0  \n",
            "3                 0                 1                 0                 0  \n",
            "4                 0                 1                 0                 0  \n"
          ]
        }
      ]
    },
    {
      "cell_type": "code",
      "source": [
        "print(y.head())"
      ],
      "metadata": {
        "colab": {
          "base_uri": "https://localhost:8080/"
        },
        "id": "hRAexmcUUg1A",
        "outputId": "303c7643-956c-4a09-e018-9a7a37d608b2"
      },
      "execution_count": null,
      "outputs": [
        {
          "output_type": "stream",
          "name": "stdout",
          "text": [
            "0    16884.92400\n",
            "1     1725.55230\n",
            "2     4449.46200\n",
            "3    21984.47061\n",
            "4     3866.85520\n",
            "Name: charges, dtype: float64\n"
          ]
        }
      ]
    },
    {
      "cell_type": "code",
      "source": [
        "# This module will seperate Test set out of Dev test\n",
        "from sklearn.model_selection import train_test_split"
      ],
      "metadata": {
        "id": "R2BpBblfUmOa"
      },
      "execution_count": null,
      "outputs": []
    },
    {
      "cell_type": "code",
      "source": [
        " # we get test set = 20% of all data set\n",
        " # And we random hook value from data set 20 value\n",
        "x_Train, x_Test, y_Train, y_Test = train_test_split(x, y, test_size = 0.2, random_state = 42)"
      ],
      "metadata": {
        "id": "BwesHkctVHNq"
      },
      "execution_count": null,
      "outputs": []
    },
    {
      "cell_type": "code",
      "source": [
        "# Vlaue of Test set and Train set seperated\n",
        "print(x.shape, x_Train.shape, x_Test.shape)"
      ],
      "metadata": {
        "colab": {
          "base_uri": "https://localhost:8080/"
        },
        "id": "JfmsXq_BWFcc",
        "outputId": "c9cc323d-aa06-48ff-8674-b4c510f29933"
      },
      "execution_count": null,
      "outputs": [
        {
          "output_type": "stream",
          "name": "stdout",
          "text": [
            "(1338, 11) (1070, 11) (268, 11)\n"
          ]
        }
      ]
    },
    {
      "cell_type": "code",
      "source": [
        "# Set random value = 42\n",
        "tf.random.set_seed(42)\n",
        "# Create model\n",
        "insurance_model = tf.keras.Sequential([tf.keras.layers.Dense(1), tf.keras.layers.Dense(1)]) # Dense is point in layers or hidden layers"
      ],
      "metadata": {
        "id": "yE6UsrKOWUgp"
      },
      "execution_count": null,
      "outputs": []
    },
    {
      "cell_type": "code",
      "source": [
        "#Compile model for get Loss use SGD Algorithm\n",
        "insurance_model.compile(loss = 'mae', optimizer = tf.keras.optimizers.SGD(), metrics = ['mae'])"
      ],
      "metadata": {
        "id": "0Sb_s7D-XksH"
      },
      "execution_count": null,
      "outputs": []
    },
    {
      "cell_type": "code",
      "source": [
        "# Train model_1\n",
        "model_1 = insurance_model.fit(x_Train, y_Train, epochs = 100) #model_1 = insurance_model.fit(input, output], epochs = จำนวนรอบ)"
      ],
      "metadata": {
        "colab": {
          "base_uri": "https://localhost:8080/"
        },
        "id": "7pSAwHeJYLM9",
        "outputId": "9f4a2101-3c1a-43aa-8ada-3e2f335712a6"
      },
      "execution_count": null,
      "outputs": [
        {
          "output_type": "stream",
          "name": "stdout",
          "text": [
            "Epoch 1/100\n",
            "34/34 [==============================] - 1s 841us/step - loss: 8868.5918 - mae: 8868.5918\n",
            "Epoch 2/100\n",
            "34/34 [==============================] - 0s 820us/step - loss: 7887.1606 - mae: 7887.1606\n",
            "Epoch 3/100\n",
            "34/34 [==============================] - 0s 829us/step - loss: 7537.0947 - mae: 7537.0947\n",
            "Epoch 4/100\n",
            "34/34 [==============================] - 0s 825us/step - loss: 7859.4336 - mae: 7859.4336\n",
            "Epoch 5/100\n",
            "34/34 [==============================] - 0s 871us/step - loss: 7639.6699 - mae: 7639.6699\n",
            "Epoch 6/100\n",
            "34/34 [==============================] - 0s 812us/step - loss: 7578.0859 - mae: 7578.0859\n",
            "Epoch 7/100\n",
            "34/34 [==============================] - 0s 820us/step - loss: 7514.6172 - mae: 7514.6172\n",
            "Epoch 8/100\n",
            "34/34 [==============================] - 0s 887us/step - loss: 7694.1338 - mae: 7694.1338\n",
            "Epoch 9/100\n",
            "34/34 [==============================] - 0s 882us/step - loss: 7595.9136 - mae: 7595.9136\n",
            "Epoch 10/100\n",
            "34/34 [==============================] - 0s 837us/step - loss: 7735.9116 - mae: 7735.9116\n",
            "Epoch 11/100\n",
            "34/34 [==============================] - 0s 936us/step - loss: 7444.4189 - mae: 7444.4189\n",
            "Epoch 12/100\n",
            "34/34 [==============================] - 0s 817us/step - loss: 7678.0337 - mae: 7678.0337\n",
            "Epoch 13/100\n",
            "34/34 [==============================] - 0s 826us/step - loss: 7681.5840 - mae: 7681.5840\n",
            "Epoch 14/100\n",
            "34/34 [==============================] - 0s 842us/step - loss: 7702.2842 - mae: 7702.2842\n",
            "Epoch 15/100\n",
            "34/34 [==============================] - 0s 824us/step - loss: 7585.8921 - mae: 7585.8921\n",
            "Epoch 16/100\n",
            "34/34 [==============================] - 0s 1ms/step - loss: 7689.5356 - mae: 7689.5356\n",
            "Epoch 17/100\n",
            "34/34 [==============================] - 0s 810us/step - loss: 7509.2036 - mae: 7509.2036\n",
            "Epoch 18/100\n",
            "34/34 [==============================] - 0s 776us/step - loss: 7695.0093 - mae: 7695.0093\n",
            "Epoch 19/100\n",
            "34/34 [==============================] - 0s 805us/step - loss: 7669.3740 - mae: 7669.3740\n",
            "Epoch 20/100\n",
            "34/34 [==============================] - 0s 793us/step - loss: 7901.1362 - mae: 7901.1362\n",
            "Epoch 21/100\n",
            "34/34 [==============================] - 0s 822us/step - loss: 7552.4814 - mae: 7552.4814\n",
            "Epoch 22/100\n",
            "34/34 [==============================] - 0s 920us/step - loss: 7844.9961 - mae: 7844.9961\n",
            "Epoch 23/100\n",
            "34/34 [==============================] - 0s 928us/step - loss: 7642.2490 - mae: 7642.2490\n",
            "Epoch 24/100\n",
            "34/34 [==============================] - 0s 800us/step - loss: 7515.3081 - mae: 7515.3081\n",
            "Epoch 25/100\n",
            "34/34 [==============================] - 0s 795us/step - loss: 7678.3506 - mae: 7678.3506\n",
            "Epoch 26/100\n",
            "34/34 [==============================] - 0s 831us/step - loss: 7653.0269 - mae: 7653.0269\n",
            "Epoch 27/100\n",
            "34/34 [==============================] - 0s 824us/step - loss: 7559.5449 - mae: 7559.5449\n",
            "Epoch 28/100\n",
            "34/34 [==============================] - 0s 924us/step - loss: 7459.9404 - mae: 7459.9404\n",
            "Epoch 29/100\n",
            "34/34 [==============================] - 0s 817us/step - loss: 7618.6177 - mae: 7618.6177\n",
            "Epoch 30/100\n",
            "34/34 [==============================] - 0s 901us/step - loss: 7628.6250 - mae: 7628.6250\n",
            "Epoch 31/100\n",
            "34/34 [==============================] - 0s 883us/step - loss: 7540.4893 - mae: 7540.4893\n",
            "Epoch 32/100\n",
            "34/34 [==============================] - 0s 883us/step - loss: 7486.0186 - mae: 7486.0186\n",
            "Epoch 33/100\n",
            "34/34 [==============================] - 0s 843us/step - loss: 7418.6646 - mae: 7418.6646\n",
            "Epoch 34/100\n",
            "34/34 [==============================] - 0s 818us/step - loss: 7480.7319 - mae: 7480.7319\n",
            "Epoch 35/100\n",
            "34/34 [==============================] - 0s 804us/step - loss: 7615.3115 - mae: 7615.3115\n",
            "Epoch 36/100\n",
            "34/34 [==============================] - 0s 992us/step - loss: 7566.7896 - mae: 7566.7896\n",
            "Epoch 37/100\n",
            "34/34 [==============================] - 0s 863us/step - loss: 7661.0884 - mae: 7661.0884\n",
            "Epoch 38/100\n",
            "34/34 [==============================] - 0s 852us/step - loss: 7522.6816 - mae: 7522.6816\n",
            "Epoch 39/100\n",
            "34/34 [==============================] - 0s 891us/step - loss: 7556.0718 - mae: 7556.0718\n",
            "Epoch 40/100\n",
            "34/34 [==============================] - 0s 866us/step - loss: 7433.5669 - mae: 7433.5669\n",
            "Epoch 41/100\n",
            "34/34 [==============================] - 0s 929us/step - loss: 7722.4321 - mae: 7722.4321\n",
            "Epoch 42/100\n",
            "34/34 [==============================] - 0s 795us/step - loss: 7344.2700 - mae: 7344.2700\n",
            "Epoch 43/100\n",
            "34/34 [==============================] - 0s 810us/step - loss: 7597.4331 - mae: 7597.4331\n",
            "Epoch 44/100\n",
            "34/34 [==============================] - 0s 804us/step - loss: 7338.0132 - mae: 7338.0132\n",
            "Epoch 45/100\n",
            "34/34 [==============================] - 0s 1ms/step - loss: 7510.3467 - mae: 7510.3467\n",
            "Epoch 46/100\n",
            "34/34 [==============================] - 0s 879us/step - loss: 7413.5801 - mae: 7413.5801\n",
            "Epoch 47/100\n",
            "34/34 [==============================] - 0s 846us/step - loss: 7451.0391 - mae: 7451.0391\n",
            "Epoch 48/100\n",
            "34/34 [==============================] - 0s 803us/step - loss: 7340.5381 - mae: 7340.5381\n",
            "Epoch 49/100\n",
            "34/34 [==============================] - 0s 802us/step - loss: 7481.9966 - mae: 7481.9966\n",
            "Epoch 50/100\n",
            "34/34 [==============================] - 0s 845us/step - loss: 7468.2842 - mae: 7468.2842\n",
            "Epoch 51/100\n",
            "34/34 [==============================] - 0s 826us/step - loss: 7411.3408 - mae: 7411.3408\n",
            "Epoch 52/100\n",
            "34/34 [==============================] - 0s 832us/step - loss: 7460.0796 - mae: 7460.0796\n",
            "Epoch 53/100\n",
            "34/34 [==============================] - 0s 850us/step - loss: 7601.6606 - mae: 7601.6606\n",
            "Epoch 54/100\n",
            "34/34 [==============================] - 0s 870us/step - loss: 7241.2544 - mae: 7241.2544\n",
            "Epoch 55/100\n",
            "34/34 [==============================] - 0s 864us/step - loss: 7539.6953 - mae: 7539.6953\n",
            "Epoch 56/100\n",
            "34/34 [==============================] - 0s 927us/step - loss: 7293.2012 - mae: 7293.2012\n",
            "Epoch 57/100\n",
            "34/34 [==============================] - 0s 856us/step - loss: 7417.9731 - mae: 7417.9731\n",
            "Epoch 58/100\n",
            "34/34 [==============================] - 0s 844us/step - loss: 7353.0625 - mae: 7353.0625\n",
            "Epoch 59/100\n",
            "34/34 [==============================] - 0s 800us/step - loss: 7643.8237 - mae: 7643.8237\n",
            "Epoch 60/100\n",
            "34/34 [==============================] - 0s 820us/step - loss: 7410.4004 - mae: 7410.4004\n",
            "Epoch 61/100\n",
            "34/34 [==============================] - 0s 826us/step - loss: 7612.8330 - mae: 7612.8330\n",
            "Epoch 62/100\n",
            "34/34 [==============================] - 0s 960us/step - loss: 7387.9087 - mae: 7387.9087\n",
            "Epoch 63/100\n",
            "34/34 [==============================] - 0s 815us/step - loss: 7359.5605 - mae: 7359.5605\n",
            "Epoch 64/100\n",
            "34/34 [==============================] - 0s 813us/step - loss: 7109.0884 - mae: 7109.0884\n",
            "Epoch 65/100\n",
            "34/34 [==============================] - 0s 1ms/step - loss: 7396.3223 - mae: 7396.3223\n",
            "Epoch 66/100\n",
            "34/34 [==============================] - 0s 837us/step - loss: 7179.8613 - mae: 7179.8613\n",
            "Epoch 67/100\n",
            "34/34 [==============================] - 0s 831us/step - loss: 7289.7710 - mae: 7289.7710\n",
            "Epoch 68/100\n",
            "34/34 [==============================] - 0s 839us/step - loss: 7523.6973 - mae: 7523.6973\n",
            "Epoch 69/100\n",
            "34/34 [==============================] - 0s 858us/step - loss: 7442.6157 - mae: 7442.6157\n",
            "Epoch 70/100\n",
            "34/34 [==============================] - 0s 775us/step - loss: 7673.4834 - mae: 7673.4834\n",
            "Epoch 71/100\n",
            "34/34 [==============================] - 0s 837us/step - loss: 7276.0337 - mae: 7276.0337\n",
            "Epoch 72/100\n",
            "34/34 [==============================] - 0s 932us/step - loss: 7246.3721 - mae: 7246.3721\n",
            "Epoch 73/100\n",
            "34/34 [==============================] - 0s 926us/step - loss: 7372.0718 - mae: 7372.0718\n",
            "Epoch 74/100\n",
            "34/34 [==============================] - 0s 808us/step - loss: 7512.0762 - mae: 7512.0762\n",
            "Epoch 75/100\n",
            "34/34 [==============================] - 0s 901us/step - loss: 7269.7437 - mae: 7269.7437\n",
            "Epoch 76/100\n",
            "34/34 [==============================] - 0s 861us/step - loss: 7199.5039 - mae: 7199.5039\n",
            "Epoch 77/100\n",
            "34/34 [==============================] - 0s 838us/step - loss: 7261.2920 - mae: 7261.2920\n",
            "Epoch 78/100\n",
            "34/34 [==============================] - 0s 875us/step - loss: 7185.7627 - mae: 7185.7627\n",
            "Epoch 79/100\n",
            "34/34 [==============================] - 0s 860us/step - loss: 7301.7495 - mae: 7301.7495\n",
            "Epoch 80/100\n",
            "34/34 [==============================] - 0s 886us/step - loss: 7002.6309 - mae: 7002.6309\n",
            "Epoch 81/100\n",
            "34/34 [==============================] - 0s 793us/step - loss: 7289.1357 - mae: 7289.1357\n",
            "Epoch 82/100\n",
            "34/34 [==============================] - 0s 805us/step - loss: 7155.3945 - mae: 7155.3945\n",
            "Epoch 83/100\n",
            "34/34 [==============================] - 0s 818us/step - loss: 7475.1709 - mae: 7475.1709\n",
            "Epoch 84/100\n",
            "34/34 [==============================] - 0s 822us/step - loss: 7387.3672 - mae: 7387.3672\n",
            "Epoch 85/100\n",
            "34/34 [==============================] - 0s 823us/step - loss: 7289.9448 - mae: 7289.9448\n",
            "Epoch 86/100\n",
            "34/34 [==============================] - 0s 837us/step - loss: 7268.0942 - mae: 7268.0942\n",
            "Epoch 87/100\n",
            "34/34 [==============================] - 0s 930us/step - loss: 7238.5869 - mae: 7238.5869\n",
            "Epoch 88/100\n",
            "34/34 [==============================] - 0s 852us/step - loss: 7201.7354 - mae: 7201.7349\n",
            "Epoch 89/100\n",
            "34/34 [==============================] - 0s 831us/step - loss: 7538.0757 - mae: 7538.0757\n",
            "Epoch 90/100\n",
            "34/34 [==============================] - 0s 883us/step - loss: 6967.1187 - mae: 6967.1187\n",
            "Epoch 91/100\n",
            "34/34 [==============================] - 0s 810us/step - loss: 7314.1294 - mae: 7314.1294\n",
            "Epoch 92/100\n",
            "34/34 [==============================] - 0s 890us/step - loss: 7192.3115 - mae: 7192.3115\n",
            "Epoch 93/100\n",
            "34/34 [==============================] - 0s 885us/step - loss: 7530.8774 - mae: 7530.8774\n",
            "Epoch 94/100\n",
            "34/34 [==============================] - 0s 907us/step - loss: 7187.3579 - mae: 7187.3579\n",
            "Epoch 95/100\n",
            "34/34 [==============================] - 0s 891us/step - loss: 7561.5635 - mae: 7561.5635\n",
            "Epoch 96/100\n",
            "34/34 [==============================] - 0s 927us/step - loss: 7263.4648 - mae: 7263.4648\n",
            "Epoch 97/100\n",
            "34/34 [==============================] - 0s 817us/step - loss: 7146.2896 - mae: 7146.2896\n",
            "Epoch 98/100\n",
            "34/34 [==============================] - 0s 816us/step - loss: 7247.9238 - mae: 7247.9238\n",
            "Epoch 99/100\n",
            "34/34 [==============================] - 0s 821us/step - loss: 7200.6694 - mae: 7200.6694\n",
            "Epoch 100/100\n",
            "34/34 [==============================] - 0s 805us/step - loss: 7301.6870 - mae: 7301.6870\n"
          ]
        }
      ]
    },
    {
      "cell_type": "code",
      "source": [
        "plt.plot(model_1.history['loss'])"
      ],
      "metadata": {
        "colab": {
          "base_uri": "https://localhost:8080/",
          "height": 282
        },
        "id": "j9PGRTUqZLPK",
        "outputId": "c1c2faa8-ae23-4efb-a0e6-c6ea281c332a"
      },
      "execution_count": null,
      "outputs": [
        {
          "output_type": "execute_result",
          "data": {
            "text/plain": [
              "[<matplotlib.lines.Line2D at 0x7f6de94afa90>]"
            ]
          },
          "metadata": {},
          "execution_count": 24
        },
        {
          "output_type": "display_data",
          "data": {
            "text/plain": [
              "<Figure size 432x288 with 1 Axes>"
            ],
            "image/png": "[encoded data removed]"
          },
          "metadata": {
            "needs_background": "light"
          }
        }
      ]
    },
    {
      "cell_type": "code",
      "source": [
        "# Add Dense for complexity of model and Accurate\n",
        "insurance_model_new = tf.keras.Sequential([\n",
        "    # Layer 1\n",
        "    tf.keras.layers.Dense(100),\n",
        "    #Layer 2\n",
        "    tf.keras.layers.Dense(50),\n",
        "    #Layer 3 is output, so Dense must = number of output parameter (1)\n",
        "    tf.keras.layers.Dense(1)\n",
        "    ])"
      ],
      "metadata": {
        "id": "E7QE4uiuZer3"
      },
      "execution_count": null,
      "outputs": []
    },
    {
      "cell_type": "code",
      "source": [
        "# We don't want adjust parameters, we just change algorithm for training (Adam Algorithm)\n",
        "insurance_model_new.compile(loss = 'mae', optimizer = 'Adam', metrics = 'mae')"
      ],
      "metadata": {
        "id": "Aq2zBuppa_7b"
      },
      "execution_count": null,
      "outputs": []
    },
    {
      "cell_type": "code",
      "source": [
        "model_2 = insurance_model_new .fit(x_Train, y_Train, epochs = 200)"
      ],
      "metadata": {
        "colab": {
          "base_uri": "https://localhost:8080/"
        },
        "id": "Bup7G8fWbfSe",
        "outputId": "8366e3db-9710-414b-ab24-f41dda312ee3"
      },
      "execution_count": null,
      "outputs": [
        {
          "output_type": "stream",
          "name": "stdout",
          "text": [
            "Epoch 1/200\n",
            "34/34 [==============================] - 0s 1ms/step - loss: 13220.3398 - mae: 13220.3398\n",
            "Epoch 2/200\n",
            "34/34 [==============================] - 0s 1ms/step - loss: 12756.2432 - mae: 12756.2432\n",
            "Epoch 3/200\n",
            "34/34 [==============================] - 0s 1ms/step - loss: 11507.5127 - mae: 11507.5127\n",
            "Epoch 4/200\n",
            "34/34 [==============================] - 0s 1ms/step - loss: 9291.9990 - mae: 9291.9990\n",
            "Epoch 5/200\n",
            "34/34 [==============================] - 0s 1ms/step - loss: 7651.2310 - mae: 7651.2310\n",
            "Epoch 6/200\n",
            "34/34 [==============================] - 0s 1ms/step - loss: 7435.3047 - mae: 7435.3047\n",
            "Epoch 7/200\n",
            "34/34 [==============================] - 0s 1ms/step - loss: 7401.6226 - mae: 7401.6226\n",
            "Epoch 8/200\n",
            "34/34 [==============================] - 0s 1ms/step - loss: 7368.9351 - mae: 7368.9351\n",
            "Epoch 9/200\n",
            "34/34 [==============================] - 0s 1ms/step - loss: 7335.0869 - mae: 7335.0869\n",
            "Epoch 10/200\n",
            "34/34 [==============================] - 0s 1ms/step - loss: 7302.7124 - mae: 7302.7124\n",
            "Epoch 11/200\n",
            "34/34 [==============================] - 0s 1ms/step - loss: 7272.5024 - mae: 7272.5024\n",
            "Epoch 12/200\n",
            "34/34 [==============================] - 0s 1ms/step - loss: 7233.8657 - mae: 7233.8657\n",
            "Epoch 13/200\n",
            "34/34 [==============================] - 0s 1ms/step - loss: 7197.5503 - mae: 7197.5503\n",
            "Epoch 14/200\n",
            "34/34 [==============================] - 0s 1ms/step - loss: 7158.6147 - mae: 7158.6147\n",
            "Epoch 15/200\n",
            "34/34 [==============================] - 0s 1ms/step - loss: 7123.4702 - mae: 7123.4702\n",
            "Epoch 16/200\n",
            "34/34 [==============================] - 0s 1ms/step - loss: 7082.1982 - mae: 7082.1982\n",
            "Epoch 17/200\n",
            "34/34 [==============================] - 0s 1ms/step - loss: 7044.9087 - mae: 7044.9087\n",
            "Epoch 18/200\n",
            "34/34 [==============================] - 0s 1ms/step - loss: 6996.9150 - mae: 6996.9150\n",
            "Epoch 19/200\n",
            "34/34 [==============================] - 0s 1ms/step - loss: 6953.5483 - mae: 6953.5483\n",
            "Epoch 20/200\n",
            "34/34 [==============================] - 0s 1ms/step - loss: 6905.7817 - mae: 6905.7817\n",
            "Epoch 21/200\n",
            "34/34 [==============================] - 0s 1ms/step - loss: 6861.4961 - mae: 6861.4961\n",
            "Epoch 22/200\n",
            "34/34 [==============================] - 0s 1ms/step - loss: 6818.6782 - mae: 6818.6782\n",
            "Epoch 23/200\n",
            "34/34 [==============================] - 0s 1ms/step - loss: 6762.4287 - mae: 6762.4287\n",
            "Epoch 24/200\n",
            "34/34 [==============================] - 0s 1ms/step - loss: 6708.9731 - mae: 6708.9731\n",
            "Epoch 25/200\n",
            "34/34 [==============================] - 0s 1ms/step - loss: 6666.4917 - mae: 6666.4917\n",
            "Epoch 26/200\n",
            "34/34 [==============================] - 0s 1ms/step - loss: 6614.8984 - mae: 6614.8984\n",
            "Epoch 27/200\n",
            "34/34 [==============================] - 0s 1ms/step - loss: 6567.5435 - mae: 6567.5435\n",
            "Epoch 28/200\n",
            "34/34 [==============================] - 0s 1ms/step - loss: 6527.9150 - mae: 6527.9150\n",
            "Epoch 29/200\n",
            "34/34 [==============================] - 0s 1ms/step - loss: 6496.1807 - mae: 6496.1807\n",
            "Epoch 30/200\n",
            "34/34 [==============================] - 0s 1ms/step - loss: 6479.2759 - mae: 6479.2759\n",
            "Epoch 31/200\n",
            "34/34 [==============================] - 0s 1ms/step - loss: 6453.9165 - mae: 6453.9165\n",
            "Epoch 32/200\n",
            "34/34 [==============================] - 0s 1ms/step - loss: 6435.8423 - mae: 6435.8423\n",
            "Epoch 33/200\n",
            "34/34 [==============================] - 0s 1ms/step - loss: 6417.5215 - mae: 6417.5215\n",
            "Epoch 34/200\n",
            "34/34 [==============================] - 0s 1ms/step - loss: 6400.8105 - mae: 6400.8105\n",
            "Epoch 35/200\n",
            "34/34 [==============================] - 0s 1ms/step - loss: 6377.6440 - mae: 6377.6440\n",
            "Epoch 36/200\n",
            "34/34 [==============================] - 0s 1ms/step - loss: 6359.8823 - mae: 6359.8823\n",
            "Epoch 37/200\n",
            "34/34 [==============================] - 0s 1ms/step - loss: 6332.5176 - mae: 6332.5176\n",
            "Epoch 38/200\n",
            "34/34 [==============================] - 0s 1ms/step - loss: 6319.0151 - mae: 6319.0151\n",
            "Epoch 39/200\n",
            "34/34 [==============================] - 0s 1ms/step - loss: 6292.4775 - mae: 6292.4775\n",
            "Epoch 40/200\n",
            "34/34 [==============================] - 0s 1ms/step - loss: 6270.5366 - mae: 6270.5366\n",
            "Epoch 41/200\n",
            "34/34 [==============================] - 0s 1ms/step - loss: 6252.0864 - mae: 6252.0864\n",
            "Epoch 42/200\n",
            "34/34 [==============================] - 0s 1ms/step - loss: 6223.3169 - mae: 6223.3169\n",
            "Epoch 43/200\n",
            "34/34 [==============================] - 0s 1ms/step - loss: 6202.1060 - mae: 6202.1060\n",
            "Epoch 44/200\n",
            "34/34 [==============================] - 0s 1ms/step - loss: 6169.0415 - mae: 6169.0415\n",
            "Epoch 45/200\n",
            "34/34 [==============================] - 0s 1ms/step - loss: 6146.5967 - mae: 6146.5967\n",
            "Epoch 46/200\n",
            "34/34 [==============================] - 0s 1ms/step - loss: 6129.1318 - mae: 6129.1318\n",
            "Epoch 47/200\n",
            "34/34 [==============================] - 0s 1ms/step - loss: 6090.1724 - mae: 6090.1724\n",
            "Epoch 48/200\n",
            "34/34 [==============================] - 0s 1ms/step - loss: 6049.8130 - mae: 6049.8130\n",
            "Epoch 49/200\n",
            "34/34 [==============================] - 0s 1ms/step - loss: 6018.3735 - mae: 6018.3735\n",
            "Epoch 50/200\n",
            "34/34 [==============================] - 0s 1ms/step - loss: 5984.6831 - mae: 5984.6831\n",
            "Epoch 51/200\n",
            "34/34 [==============================] - 0s 1ms/step - loss: 5946.9014 - mae: 5946.9014\n",
            "Epoch 52/200\n",
            "34/34 [==============================] - 0s 1ms/step - loss: 5901.5703 - mae: 5901.5703\n",
            "Epoch 53/200\n",
            "34/34 [==============================] - 0s 1ms/step - loss: 5860.9189 - mae: 5860.9189\n",
            "Epoch 54/200\n",
            "34/34 [==============================] - 0s 1ms/step - loss: 5814.0249 - mae: 5814.0249\n",
            "Epoch 55/200\n",
            "34/34 [==============================] - 0s 1ms/step - loss: 5767.3857 - mae: 5767.3857\n",
            "Epoch 56/200\n",
            "34/34 [==============================] - 0s 1ms/step - loss: 5714.5830 - mae: 5714.5830\n",
            "Epoch 57/200\n",
            "34/34 [==============================] - 0s 1ms/step - loss: 5652.4170 - mae: 5652.4170\n",
            "Epoch 58/200\n",
            "34/34 [==============================] - 0s 1ms/step - loss: 5593.8315 - mae: 5593.8315\n",
            "Epoch 59/200\n",
            "34/34 [==============================] - 0s 1ms/step - loss: 5526.3848 - mae: 5526.3848\n",
            "Epoch 60/200\n",
            "34/34 [==============================] - 0s 1ms/step - loss: 5461.9067 - mae: 5461.9067\n",
            "Epoch 61/200\n",
            "34/34 [==============================] - 0s 1ms/step - loss: 5376.7920 - mae: 5376.7920\n",
            "Epoch 62/200\n",
            "34/34 [==============================] - 0s 1ms/step - loss: 5290.3105 - mae: 5290.3105\n",
            "Epoch 63/200\n",
            "34/34 [==============================] - 0s 1ms/step - loss: 5199.2622 - mae: 5199.2622\n",
            "Epoch 64/200\n",
            "34/34 [==============================] - 0s 1ms/step - loss: 5093.6836 - mae: 5093.6836\n",
            "Epoch 65/200\n",
            "34/34 [==============================] - 0s 1ms/step - loss: 4989.8315 - mae: 4989.8315\n",
            "Epoch 66/200\n",
            "34/34 [==============================] - 0s 1ms/step - loss: 4871.9341 - mae: 4871.9341\n",
            "Epoch 67/200\n",
            "34/34 [==============================] - 0s 1ms/step - loss: 4759.6484 - mae: 4759.6484\n",
            "Epoch 68/200\n",
            "34/34 [==============================] - 0s 1ms/step - loss: 4599.7861 - mae: 4599.7861\n",
            "Epoch 69/200\n",
            "34/34 [==============================] - 0s 1ms/step - loss: 4464.0864 - mae: 4464.0864\n",
            "Epoch 70/200\n",
            "34/34 [==============================] - 0s 1ms/step - loss: 4316.4907 - mae: 4316.4907\n",
            "Epoch 71/200\n",
            "34/34 [==============================] - 0s 1ms/step - loss: 4175.0815 - mae: 4175.0815\n",
            "Epoch 72/200\n",
            "34/34 [==============================] - 0s 1ms/step - loss: 4048.7986 - mae: 4048.7986\n",
            "Epoch 73/200\n",
            "34/34 [==============================] - 0s 1ms/step - loss: 3973.0466 - mae: 3973.0466\n",
            "Epoch 74/200\n",
            "34/34 [==============================] - 0s 1ms/step - loss: 3911.7886 - mae: 3911.7886\n",
            "Epoch 75/200\n",
            "34/34 [==============================] - 0s 1ms/step - loss: 3875.3506 - mae: 3875.3506\n",
            "Epoch 76/200\n",
            "34/34 [==============================] - 0s 1ms/step - loss: 3845.6042 - mae: 3845.6042\n",
            "Epoch 77/200\n",
            "34/34 [==============================] - 0s 1ms/step - loss: 3839.5938 - mae: 3839.5938\n",
            "Epoch 78/200\n",
            "34/34 [==============================] - 0s 1ms/step - loss: 3812.2908 - mae: 3812.2908\n",
            "Epoch 79/200\n",
            "34/34 [==============================] - 0s 1ms/step - loss: 3830.6067 - mae: 3830.6067\n",
            "Epoch 80/200\n",
            "34/34 [==============================] - 0s 1ms/step - loss: 3809.3496 - mae: 3809.3496\n",
            "Epoch 81/200\n",
            "34/34 [==============================] - 0s 1ms/step - loss: 3790.4973 - mae: 3790.4973\n",
            "Epoch 82/200\n",
            "34/34 [==============================] - 0s 1ms/step - loss: 3792.0491 - mae: 3792.0491\n",
            "Epoch 83/200\n",
            "34/34 [==============================] - 0s 1ms/step - loss: 3787.6821 - mae: 3787.6821\n",
            "Epoch 84/200\n",
            "34/34 [==============================] - 0s 1ms/step - loss: 3783.1294 - mae: 3783.1294\n",
            "Epoch 85/200\n",
            "34/34 [==============================] - 0s 1ms/step - loss: 3772.1819 - mae: 3772.1819\n",
            "Epoch 86/200\n",
            "34/34 [==============================] - 0s 1ms/step - loss: 3778.1211 - mae: 3778.1211\n",
            "Epoch 87/200\n",
            "34/34 [==============================] - 0s 1ms/step - loss: 3768.9951 - mae: 3768.9951\n",
            "Epoch 88/200\n",
            "34/34 [==============================] - 0s 1ms/step - loss: 3767.3738 - mae: 3767.3738\n",
            "Epoch 89/200\n",
            "34/34 [==============================] - 0s 1ms/step - loss: 3770.3455 - mae: 3770.3455\n",
            "Epoch 90/200\n",
            "34/34 [==============================] - 0s 1ms/step - loss: 3771.0198 - mae: 3771.0198\n",
            "Epoch 91/200\n",
            "34/34 [==============================] - 0s 1ms/step - loss: 3759.6116 - mae: 3759.6116\n",
            "Epoch 92/200\n",
            "34/34 [==============================] - 0s 1ms/step - loss: 3758.1650 - mae: 3758.1650\n",
            "Epoch 93/200\n",
            "34/34 [==============================] - 0s 1ms/step - loss: 3751.8171 - mae: 3751.8171\n",
            "Epoch 94/200\n",
            "34/34 [==============================] - 0s 1ms/step - loss: 3754.3567 - mae: 3754.3567\n",
            "Epoch 95/200\n",
            "34/34 [==============================] - 0s 1ms/step - loss: 3746.9910 - mae: 3746.9910\n",
            "Epoch 96/200\n",
            "34/34 [==============================] - 0s 1ms/step - loss: 3748.5168 - mae: 3748.5168\n",
            "Epoch 97/200\n",
            "34/34 [==============================] - 0s 1ms/step - loss: 3741.5688 - mae: 3741.5688\n",
            "Epoch 98/200\n",
            "34/34 [==============================] - 0s 1ms/step - loss: 3735.9561 - mae: 3735.9561\n",
            "Epoch 99/200\n",
            "34/34 [==============================] - 0s 1ms/step - loss: 3757.3240 - mae: 3757.3240\n",
            "Epoch 100/200\n",
            "34/34 [==============================] - 0s 1ms/step - loss: 3757.7898 - mae: 3757.7898\n",
            "Epoch 101/200\n",
            "34/34 [==============================] - 0s 1ms/step - loss: 3747.2986 - mae: 3747.2986\n",
            "Epoch 102/200\n",
            "34/34 [==============================] - 0s 1ms/step - loss: 3726.1865 - mae: 3726.1865\n",
            "Epoch 103/200\n",
            "34/34 [==============================] - 0s 1ms/step - loss: 3730.5095 - mae: 3730.5095\n",
            "Epoch 104/200\n",
            "34/34 [==============================] - 0s 1ms/step - loss: 3727.4790 - mae: 3727.4790\n",
            "Epoch 105/200\n",
            "34/34 [==============================] - 0s 1ms/step - loss: 3735.6465 - mae: 3735.6465\n",
            "Epoch 106/200\n",
            "34/34 [==============================] - 0s 1ms/step - loss: 3733.0745 - mae: 3733.0745\n",
            "Epoch 107/200\n",
            "34/34 [==============================] - 0s 1ms/step - loss: 3727.9033 - mae: 3727.9033\n",
            "Epoch 108/200\n",
            "34/34 [==============================] - 0s 1ms/step - loss: 3720.7693 - mae: 3720.7693\n",
            "Epoch 109/200\n",
            "34/34 [==============================] - 0s 1ms/step - loss: 3710.5208 - mae: 3710.5208\n",
            "Epoch 110/200\n",
            "34/34 [==============================] - 0s 1ms/step - loss: 3710.5059 - mae: 3710.5059\n",
            "Epoch 111/200\n",
            "34/34 [==============================] - 0s 1ms/step - loss: 3728.4829 - mae: 3728.4829\n",
            "Epoch 112/200\n",
            "34/34 [==============================] - 0s 1ms/step - loss: 3706.9502 - mae: 3706.9502\n",
            "Epoch 113/200\n",
            "34/34 [==============================] - 0s 1ms/step - loss: 3711.0315 - mae: 3711.0315\n",
            "Epoch 114/200\n",
            "34/34 [==============================] - 0s 1ms/step - loss: 3722.3259 - mae: 3722.3259\n",
            "Epoch 115/200\n",
            "34/34 [==============================] - 0s 1ms/step - loss: 3718.2415 - mae: 3718.2415\n",
            "Epoch 116/200\n",
            "34/34 [==============================] - 0s 1ms/step - loss: 3702.8879 - mae: 3702.8879\n",
            "Epoch 117/200\n",
            "34/34 [==============================] - 0s 1ms/step - loss: 3696.6770 - mae: 3696.6770\n",
            "Epoch 118/200\n",
            "34/34 [==============================] - 0s 1ms/step - loss: 3694.7664 - mae: 3694.7664\n",
            "Epoch 119/200\n",
            "34/34 [==============================] - 0s 1ms/step - loss: 3694.6079 - mae: 3694.6079\n",
            "Epoch 120/200\n",
            "34/34 [==============================] - 0s 1ms/step - loss: 3695.0886 - mae: 3695.0886\n",
            "Epoch 121/200\n",
            "34/34 [==============================] - 0s 1ms/step - loss: 3686.2822 - mae: 3686.2822\n",
            "Epoch 122/200\n",
            "34/34 [==============================] - 0s 1ms/step - loss: 3690.8235 - mae: 3690.8235\n",
            "Epoch 123/200\n",
            "34/34 [==============================] - 0s 1ms/step - loss: 3687.6917 - mae: 3687.6917\n",
            "Epoch 124/200\n",
            "34/34 [==============================] - 0s 1ms/step - loss: 3679.0742 - mae: 3679.0742\n",
            "Epoch 125/200\n",
            "34/34 [==============================] - 0s 1ms/step - loss: 3679.8035 - mae: 3679.8035\n",
            "Epoch 126/200\n",
            "34/34 [==============================] - 0s 1ms/step - loss: 3683.5132 - mae: 3683.5132\n",
            "Epoch 127/200\n",
            "34/34 [==============================] - 0s 1ms/step - loss: 3681.4797 - mae: 3681.4797\n",
            "Epoch 128/200\n",
            "34/34 [==============================] - 0s 1ms/step - loss: 3682.7454 - mae: 3682.7454\n",
            "Epoch 129/200\n",
            "34/34 [==============================] - 0s 1ms/step - loss: 3682.2410 - mae: 3682.2410\n",
            "Epoch 130/200\n",
            "34/34 [==============================] - 0s 1ms/step - loss: 3693.2654 - mae: 3693.2654\n",
            "Epoch 131/200\n",
            "34/34 [==============================] - 0s 1ms/step - loss: 3666.9463 - mae: 3666.9463\n",
            "Epoch 132/200\n",
            "34/34 [==============================] - 0s 1ms/step - loss: 3664.1501 - mae: 3664.1501\n",
            "Epoch 133/200\n",
            "34/34 [==============================] - 0s 1ms/step - loss: 3662.8220 - mae: 3662.8220\n",
            "Epoch 134/200\n",
            "34/34 [==============================] - 0s 1ms/step - loss: 3654.2351 - mae: 3654.2351\n",
            "Epoch 135/200\n",
            "34/34 [==============================] - 0s 1ms/step - loss: 3653.4592 - mae: 3653.4592\n",
            "Epoch 136/200\n",
            "34/34 [==============================] - 0s 1ms/step - loss: 3649.0134 - mae: 3649.0134\n",
            "Epoch 137/200\n",
            "34/34 [==============================] - 0s 1ms/step - loss: 3653.2397 - mae: 3653.2397\n",
            "Epoch 138/200\n",
            "34/34 [==============================] - 0s 1ms/step - loss: 3658.2031 - mae: 3658.2031\n",
            "Epoch 139/200\n",
            "34/34 [==============================] - 0s 1ms/step - loss: 3662.1492 - mae: 3662.1492\n",
            "Epoch 140/200\n",
            "34/34 [==============================] - 0s 1ms/step - loss: 3647.4150 - mae: 3647.4150\n",
            "Epoch 141/200\n",
            "34/34 [==============================] - 0s 1ms/step - loss: 3652.4863 - mae: 3652.4863\n",
            "Epoch 142/200\n",
            "34/34 [==============================] - 0s 1ms/step - loss: 3648.0869 - mae: 3648.0869\n",
            "Epoch 143/200\n",
            "34/34 [==============================] - 0s 1ms/step - loss: 3634.5105 - mae: 3634.5105\n",
            "Epoch 144/200\n",
            "34/34 [==============================] - 0s 1ms/step - loss: 3628.2820 - mae: 3628.2820\n",
            "Epoch 145/200\n",
            "34/34 [==============================] - 0s 1ms/step - loss: 3632.2957 - mae: 3632.2957\n",
            "Epoch 146/200\n",
            "34/34 [==============================] - 0s 1ms/step - loss: 3642.6401 - mae: 3642.6401\n",
            "Epoch 147/200\n",
            "34/34 [==============================] - 0s 1ms/step - loss: 3651.0847 - mae: 3651.0847\n",
            "Epoch 148/200\n",
            "34/34 [==============================] - 0s 1ms/step - loss: 3640.7288 - mae: 3640.7288\n",
            "Epoch 149/200\n",
            "34/34 [==============================] - 0s 1ms/step - loss: 3626.2798 - mae: 3626.2798\n",
            "Epoch 150/200\n",
            "34/34 [==============================] - 0s 1ms/step - loss: 3619.6812 - mae: 3619.6812\n",
            "Epoch 151/200\n",
            "34/34 [==============================] - 0s 1ms/step - loss: 3612.6472 - mae: 3612.6472\n",
            "Epoch 152/200\n",
            "34/34 [==============================] - 0s 1ms/step - loss: 3612.0771 - mae: 3612.0771\n",
            "Epoch 153/200\n",
            "34/34 [==============================] - 0s 1ms/step - loss: 3620.6157 - mae: 3620.6157\n",
            "Epoch 154/200\n",
            "34/34 [==============================] - 0s 1ms/step - loss: 3607.9482 - mae: 3607.9482\n",
            "Epoch 155/200\n",
            "34/34 [==============================] - 0s 1ms/step - loss: 3606.1101 - mae: 3606.1101\n",
            "Epoch 156/200\n",
            "34/34 [==============================] - 0s 1ms/step - loss: 3600.1838 - mae: 3600.1838\n",
            "Epoch 157/200\n",
            "34/34 [==============================] - 0s 1ms/step - loss: 3604.0015 - mae: 3604.0015\n",
            "Epoch 158/200\n",
            "34/34 [==============================] - 0s 1ms/step - loss: 3597.2815 - mae: 3597.2815\n",
            "Epoch 159/200\n",
            "34/34 [==============================] - 0s 1ms/step - loss: 3583.2705 - mae: 3583.2705\n",
            "Epoch 160/200\n",
            "34/34 [==============================] - 0s 1ms/step - loss: 3595.3267 - mae: 3595.3267\n",
            "Epoch 161/200\n",
            "34/34 [==============================] - 0s 1ms/step - loss: 3587.5847 - mae: 3587.5847\n",
            "Epoch 162/200\n",
            "34/34 [==============================] - 0s 1ms/step - loss: 3576.4336 - mae: 3576.4336\n",
            "Epoch 163/200\n",
            "34/34 [==============================] - 0s 1ms/step - loss: 3573.0076 - mae: 3573.0076\n",
            "Epoch 164/200\n",
            "34/34 [==============================] - 0s 1ms/step - loss: 3585.4219 - mae: 3585.4219\n",
            "Epoch 165/200\n",
            "34/34 [==============================] - 0s 1ms/step - loss: 3570.9146 - mae: 3570.9146\n",
            "Epoch 166/200\n",
            "34/34 [==============================] - 0s 1ms/step - loss: 3572.6401 - mae: 3572.6401\n",
            "Epoch 167/200\n",
            "34/34 [==============================] - 0s 1ms/step - loss: 3574.9734 - mae: 3574.9734\n",
            "Epoch 168/200\n",
            "34/34 [==============================] - 0s 1ms/step - loss: 3562.4863 - mae: 3562.4863\n",
            "Epoch 169/200\n",
            "34/34 [==============================] - 0s 1ms/step - loss: 3557.8252 - mae: 3557.8252\n",
            "Epoch 170/200\n",
            "34/34 [==============================] - 0s 1ms/step - loss: 3554.9697 - mae: 3554.9697\n",
            "Epoch 171/200\n",
            "34/34 [==============================] - 0s 1ms/step - loss: 3556.0210 - mae: 3556.0210\n",
            "Epoch 172/200\n",
            "34/34 [==============================] - 0s 1ms/step - loss: 3565.0598 - mae: 3565.0598\n",
            "Epoch 173/200\n",
            "34/34 [==============================] - 0s 1ms/step - loss: 3571.1743 - mae: 3571.1743\n",
            "Epoch 174/200\n",
            "34/34 [==============================] - 0s 1ms/step - loss: 3559.5066 - mae: 3559.5066\n",
            "Epoch 175/200\n",
            "34/34 [==============================] - 0s 1ms/step - loss: 3549.0093 - mae: 3549.0093\n",
            "Epoch 176/200\n",
            "34/34 [==============================] - 0s 1ms/step - loss: 3559.1204 - mae: 3559.1204\n",
            "Epoch 177/200\n",
            "34/34 [==============================] - 0s 1ms/step - loss: 3552.4153 - mae: 3552.4153\n",
            "Epoch 178/200\n",
            "34/34 [==============================] - 0s 1ms/step - loss: 3537.1953 - mae: 3537.1953\n",
            "Epoch 179/200\n",
            "34/34 [==============================] - 0s 1ms/step - loss: 3546.1553 - mae: 3546.1553\n",
            "Epoch 180/200\n",
            "34/34 [==============================] - 0s 1ms/step - loss: 3563.7419 - mae: 3563.7419\n",
            "Epoch 181/200\n",
            "34/34 [==============================] - 0s 1ms/step - loss: 3539.5586 - mae: 3539.5586\n",
            "Epoch 182/200\n",
            "34/34 [==============================] - 0s 1ms/step - loss: 3546.1096 - mae: 3546.1096\n",
            "Epoch 183/200\n",
            "34/34 [==============================] - 0s 1ms/step - loss: 3531.4915 - mae: 3531.4915\n",
            "Epoch 184/200\n",
            "34/34 [==============================] - 0s 1ms/step - loss: 3559.4150 - mae: 3559.4150\n",
            "Epoch 185/200\n",
            "34/34 [==============================] - 0s 1ms/step - loss: 3537.3281 - mae: 3537.3281\n",
            "Epoch 186/200\n",
            "34/34 [==============================] - 0s 1ms/step - loss: 3545.9722 - mae: 3545.9722\n",
            "Epoch 187/200\n",
            "34/34 [==============================] - 0s 1ms/step - loss: 3525.4336 - mae: 3525.4336\n",
            "Epoch 188/200\n",
            "34/34 [==============================] - 0s 1ms/step - loss: 3527.2874 - mae: 3527.2874\n",
            "Epoch 189/200\n",
            "34/34 [==============================] - 0s 1ms/step - loss: 3517.1660 - mae: 3517.1660\n",
            "Epoch 190/200\n",
            "34/34 [==============================] - 0s 1ms/step - loss: 3536.4900 - mae: 3536.4900\n",
            "Epoch 191/200\n",
            "34/34 [==============================] - 0s 1ms/step - loss: 3527.2017 - mae: 3527.2017\n",
            "Epoch 192/200\n",
            "34/34 [==============================] - 0s 1ms/step - loss: 3527.7886 - mae: 3527.7886\n",
            "Epoch 193/200\n",
            "34/34 [==============================] - 0s 1ms/step - loss: 3510.2888 - mae: 3510.2888\n",
            "Epoch 194/200\n",
            "34/34 [==============================] - 0s 1ms/step - loss: 3510.8040 - mae: 3510.8040\n",
            "Epoch 195/200\n",
            "34/34 [==============================] - 0s 1ms/step - loss: 3509.9075 - mae: 3509.9075\n",
            "Epoch 196/200\n",
            "34/34 [==============================] - 0s 1ms/step - loss: 3535.8711 - mae: 3535.8711\n",
            "Epoch 197/200\n",
            "34/34 [==============================] - 0s 1ms/step - loss: 3505.0364 - mae: 3505.0364\n",
            "Epoch 198/200\n",
            "34/34 [==============================] - 0s 1ms/step - loss: 3504.9534 - mae: 3504.9534\n",
            "Epoch 199/200\n",
            "34/34 [==============================] - 0s 1ms/step - loss: 3496.0835 - mae: 3496.0835\n",
            "Epoch 200/200\n",
            "34/34 [==============================] - 0s 1ms/step - loss: 3491.6340 - mae: 3491.6340\n"
          ]
        }
      ]
    },
    {
      "cell_type": "code",
      "source": [
        "plt.plot(model_2.history['loss'])"
      ],
      "metadata": {
        "colab": {
          "base_uri": "https://localhost:8080/",
          "height": 282
        },
        "id": "KHZ_IeQfcFRt",
        "outputId": "451d1d9f-59e1-4ca9-c109-aeaee5cea2cc"
      },
      "execution_count": null,
      "outputs": [
        {
          "output_type": "execute_result",
          "data": {
            "text/plain": [
              "[<matplotlib.lines.Line2D at 0x7f6ded4c9310>]"
            ]
          },
          "metadata": {},
          "execution_count": 36
        },
        {
          "output_type": "display_data",
          "data": {
            "text/plain": [
              "<Figure size 432x288 with 1 Axes>"
            ],
            "image/png": "[encoded data removed]"
          },
          "metadata": {
            "needs_background": "light"
          }
        }
      ]
    },
    {
      "cell_type": "code",
      "source": [],
      "metadata": {
        "id": "Uhsa4C9IcN8H"
      },
      "execution_count": null,
      "outputs": []
    }
  ]
}